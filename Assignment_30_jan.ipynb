{
 "cells": [
  {
   "cell_type": "code",
   "execution_count": 1,
   "metadata": {},
   "outputs": [
    {
     "name": "stdout",
     "output_type": "stream",
     "text": [
      "please enter your marks 66\n",
      "D\n"
     ]
    }
   ],
   "source": [
    "#Question1 \n",
    "marks=int(input(\"please enter your marks \"))\n",
    "\n",
    "if marks > 90:\n",
    "    print(\"A\")\n",
    "elif marks > 80 and marks <=90:\n",
    "    print('B')\n",
    "elif marks >= 80 and marks <=90:\n",
    "    print('C')\n",
    "else:\n",
    "    print('D')"
   ]
  },
  {
   "cell_type": "code",
   "execution_count": 9,
   "metadata": {},
   "outputs": [
    {
     "name": "stdout",
     "output_type": "stream",
     "text": [
      "please the cost 500\n",
      "5%\n"
     ]
    }
   ],
   "source": [
    "#Question2\n",
    "cost=int(input(\"please the cost \"))\n",
    "\n",
    "if cost > 100000:\n",
    "    print(\"15%\")\n",
    "elif cost > 50000 and marks <=100000:\n",
    "    print('10%')\n",
    "elif cost < 50000:\n",
    "    print('5%')\n",
    "else:\n",
    "    pass"
   ]
  },
  {
   "cell_type": "code",
   "execution_count": 10,
   "metadata": {},
   "outputs": [
    {
     "name": "stdout",
     "output_type": "stream",
     "text": [
      "please the city delhi\n",
      "Redfort\n"
     ]
    }
   ],
   "source": [
    "#Question3\n",
    "city=input(\"please the city \")\n",
    "\n",
    "if city.lower()=='Delhi'.lower():\n",
    "    print(\"Redfort\")\n",
    "elif city.lower()=='Agra'.lower():\n",
    "    print('Taj mahal')\n",
    "elif city.lower()=='Jaipur'.lower():\n",
    "    print('Jal mahal')\n",
    "else:\n",
    "    pass"
   ]
  },
  {
   "cell_type": "code",
   "execution_count": 15,
   "metadata": {},
   "outputs": [
    {
     "name": "stdout",
     "output_type": "stream",
     "text": [
      "the number 55\n",
      "number of times divided by 3 before 10 14 times\n"
     ]
    }
   ],
   "source": [
    "#Question4\n",
    "number=int(input(\"the number \"))\n",
    "if number < 10:\n",
    "    print(\"number of times divided by 3 before 10  0\")\n",
    "else:\n",
    "    a=number/3\n",
    "    b=10/3\n",
    "    print(f\"number of times divided by 3 before 10 {int(a-b)} times\")"
   ]
  },
  {
   "cell_type": "markdown",
   "metadata": {},
   "source": [
    "\n",
    "#Question5 when use python loop\n",
    "Python while loop is used to run a block code until a certain condition is met. Here, A while loop evaluates the condition.\n",
    "If the condition evaluates to True , the code inside the while loop is executed"
   ]
  },
  {
   "cell_type": "code",
   "execution_count": 2,
   "metadata": {},
   "outputs": [
    {
     "name": "stdout",
     "output_type": "stream",
     "text": [
      "condition met\n",
      "condition met\n",
      "condition met\n",
      "condition not met\n"
     ]
    }
   ],
   "source": [
    "#question5 example\n",
    "#example\n",
    "counter = 0\n",
    "\n",
    "while counter < 3:\n",
    "    print('condition met')\n",
    "    counter = counter + 1\n",
    "else:\n",
    "    print('condition not met')"
   ]
  },
  {
   "cell_type": "code",
   "execution_count": 3,
   "metadata": {},
   "outputs": [
    {
     "name": "stdout",
     "output_type": "stream",
     "text": [
      "* \r\n",
      "* * \r\n",
      "* * * \r\n",
      "* * * * \r\n",
      "* * * * * \r\n"
     ]
    }
   ],
   "source": [
    "#Question6\n",
    "# python3 code to print pyramid pattern using while loop\n",
    " \n",
    "# input\n",
    "n=5\n",
    " \n",
    "i=1;j=0\n",
    "# while loop check the condition until the\n",
    "# condition become false. if it is true then\n",
    "# enter in to loop and print the pattern\n",
    "while(i<=n):\n",
    "    while(j<=i-1):\n",
    "        print(\"* \",end=\"\")\n",
    "        j+=1\n",
    "     # printing next line for each row\n",
    "    print(\"\\r\")\n",
    "    j=0;i+=1\n",
    " "
   ]
  },
  {
   "cell_type": "code",
   "execution_count": 4,
   "metadata": {},
   "outputs": [
    {
     "name": "stdout",
     "output_type": "stream",
     "text": [
      "     \n",
      "    *\n",
      "   **\n",
      "  ***\n",
      " ****\n",
      "*****\n"
     ]
    }
   ],
   "source": [
    "#Question6\n",
    "# python3 code to print pyramid pattern using while loop\n",
    "n=5;i=0\n",
    "while(i<=n):\n",
    "  print(\" \" * (n - i) +\"*\" * i)\n",
    "  i+=1"
   ]
  },
  {
   "cell_type": "code",
   "execution_count": 14,
   "metadata": {},
   "outputs": [
    {
     "name": "stdout",
     "output_type": "stream",
     "text": [
      "  1 \n",
      "  2   3 \n",
      "  4   5   6 \n",
      "  7   8   9  10 \n",
      " 11  12  13  14  15 \n",
      " 16  17  18  19  20  21 \n",
      " 22  23  24  25  26  27  28 \n"
     ]
    }
   ],
   "source": [
    "#Question6\n",
    "n = 7\n",
    " \n",
    "k = 1\n",
    "i = 1\n",
    "while i <= n :\n",
    "    j = 1\n",
    "    while j <= i:\n",
    "        print(\"{:3d}\".format(k), end = \" \")\n",
    "        j += 1\n",
    "        k += 1\n",
    "    print()\n",
    "    i += 1"
   ]
  },
  {
   "cell_type": "code",
   "execution_count": 20,
   "metadata": {},
   "outputs": [
    {
     "name": "stdout",
     "output_type": "stream",
     "text": [
      "10 9 8 7 6 5 4 3 2 1 "
     ]
    }
   ],
   "source": [
    "#Question7\n",
    "n=10\n",
    "i=0\n",
    "while n >i :\n",
    "    print(n, end = \" \")\n",
    "    n=n-1"
   ]
  },
  {
   "cell_type": "code",
   "execution_count": null,
   "metadata": {},
   "outputs": [],
   "source": []
  }
 ],
 "metadata": {
  "kernelspec": {
   "display_name": "Python 3",
   "language": "python",
   "name": "python3"
  },
  "language_info": {
   "codemirror_mode": {
    "name": "ipython",
    "version": 3
   },
   "file_extension": ".py",
   "mimetype": "text/x-python",
   "name": "python",
   "nbconvert_exporter": "python",
   "pygments_lexer": "ipython3",
   "version": "3.8.5"
  }
 },
 "nbformat": 4,
 "nbformat_minor": 4
}
