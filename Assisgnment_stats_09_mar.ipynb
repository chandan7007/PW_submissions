{
 "cells": [
  {
   "cell_type": "markdown",
   "metadata": {},
   "source": [
    "Q1: What are the Probability Mass Function (PMF) and Probability Density Function (PDF)? Explain with\n",
    "an example."
   ]
  },
  {
   "cell_type": "markdown",
   "metadata": {},
   "source": [
    "Probability mass function can be defined as the probability that a discrete random variable will be exactly equal to some particular value.\n",
    "\n",
    "In other words, the probability mass function assigns a particular probability to every possible value of a discrete random variable.\n",
    "\n",
    "Suppose a fair coin is tossed twice and the sample space is recorded as S = [HH, HT, TH, TT].\n",
    "\n",
    "The probability of getting heads needs to be determined. Let X be the random variable that shows how many heads are obtained. X can take on the values 0, 1, 2.\n",
    "\n",
    "The probability that X will be equal to 1 is 0.5. Thus, it can be said that the probability mass function of X evaluated at 1 will be 0.5"
   ]
  },
  {
   "cell_type": "markdown",
   "metadata": {},
   "source": [
    "Q2: What is Cumulative Density Function (CDF)? Explain with an example. Why CDF is used?"
   ]
  },
  {
   "cell_type": "markdown",
   "metadata": {},
   "source": [
    "n other words, CDF finds the cumulative probability for the given value. To determine the probability of a random variable,\n",
    "\n",
    "it is used and also to compare the probability between values under certain conditions. For discrete distribution functions,\n",
    "\n",
    "CDF gives the probability values till what we specify and for continuous distribution functions, \n",
    "\n",
    "it gives the area under the probability density function up to the given value specified.\n",
    "\n",
    "Example:\n",
    "    Consider a simple example for CDF which is given by rolling a fair six-sided die, where X is the random variable\n",
    "\n",
    "    We know that the probability of getting an outcome by rolling a six-sided die is given as:\n",
    "\n",
    "    Probability of getting 1 = P(X≤ 1 ) = 1 / 6\n",
    "\n",
    "    Probability of getting 2 = P(X≤ 2 ) = 2 / 6\n",
    "\n",
    "    Probability of getting 3 = P(X≤ 3 ) = 3 / 6\n",
    "\n",
    "    Probability of getting 4 = P(X≤ 4 ) = 4 / 6\n",
    "\n",
    "    Probability of getting 5 = P(X≤ 5 ) = 5 / 6\n",
    "\n",
    "    Probability of getting 6 = P(X≤ 6 ) = 6 / 6 = 1\n",
    "\n",
    "    From this, it is noted that the probability value always lies between 0 and 1 and it is non-decreasing and right continuous in nature."
   ]
  },
  {
   "cell_type": "markdown",
   "metadata": {},
   "source": [
    "Q3: What are some examples of situations where the normal distribution might be used as a model?\n",
    "Explain how the parameters of the normal distribution relate to the shape of the distribution."
   ]
  },
  {
   "cell_type": "markdown",
   "metadata": {},
   "source": [
    "Normal/Gaussian Distribution is a bell-shaped graph that encompasses two basic terms- mean and standard deviation. \n",
    "\n",
    "It is a symmetrical arrangement of a data set in which most values cluster in the mean and the rest taper off symmetrically \n",
    "\n",
    "towards either extreme. Numerous genetic and environmental factors influence the trait.\n",
    "\n",
    "The height of people is an example of normal distribution.\n",
    "\n",
    "Most of the people in a specific population are of average height. The number of people taller and shorter than\n",
    "\n",
    "the average height people is almost equal, and a very small number of people are either extremely tall or extremely short.\n",
    "\n",
    "Several genetic and environmental factors influence height. Therefore, it follows the normal distribution.\n",
    "\n",
    "The mean of the distribution determines the location of the center of the graph, the standard deviation determines \n",
    "\n",
    "the height and width of the graph and the total area under the normal curve is equal to 1.\n",
    "\n"
   ]
  },
  {
   "cell_type": "markdown",
   "metadata": {},
   "source": [
    "Q4: Explain the importance of Normal Distribution. Give a few real-life examples of Normal\n",
    "Distribution."
   ]
  },
  {
   "cell_type": "markdown",
   "metadata": {},
   "source": [
    "One reason the normal distribution is important is that many psychological and\n",
    "\n",
    "educational variables are distributed approximately normally. Measures of reading ability, introversion, job satisfaction, and\n",
    "\n",
    "memory are among the many psychological variables approximately normally distributed\n",
    "\n",
    "Flipping a coin is one of the oldest methods for settling disputes. We all have flipped a coin before a match or game.\n",
    "\n",
    "The perceived fairness in flipping a coin lies in the fact that it has equal chances to come up with either result. \n",
    "\n",
    "The chances of getting a head are 1/2, and the same is for tails. When we add both, it equals one. \n",
    "\n",
    "If we toss coins multiple times, the sum of the probability of getting heads and tails will always remain 1."
   ]
  },
  {
   "cell_type": "code",
   "execution_count": null,
   "metadata": {},
   "outputs": [],
   "source": []
  },
  {
   "cell_type": "markdown",
   "metadata": {},
   "source": [
    "Q6. Consider a dataset with a mean of 50 and a standard deviation of 10. If we assume that the dataset\n",
    "is normally distributed, what is the probability that a randomly selected observation will be greater\n",
    "than 60? Use the appropriate formula and show your calculations."
   ]
  },
  {
   "cell_type": "markdown",
   "metadata": {},
   "source": [
    "sample mean=50\n",
    "deviation=10\n",
    "\n",
    "z_score=1\n",
    "\n",
    "probability is 85 %"
   ]
  },
  {
   "cell_type": "markdown",
   "metadata": {},
   "source": [
    "Q7: Explain uniform Distribution with an example."
   ]
  },
  {
   "cell_type": "markdown",
   "metadata": {},
   "source": [
    "A continuous probability distribution is called the uniform distribution and it is related to the events that are equally possible to occur. \n",
    "\n",
    "It is defined by two different parameters, x and y, where x = the minimum value and y = the maximum value. It is generally represented by u(x,y).\n",
    "\n",
    "\n",
    "If the probability density function or the probability distribution of the uniform distribution with a continuous random variable X is f(b)=1/y−x\n",
    "\n",
    ", it is denoted by U(x, y) where x and y are the constants in a way that x < a < y. It is written in the following manner:\n",
    "\n",
    "X ~ U(a, b).\n",
    "\n",
    "\n",
    "The average weight gained by a person over the winter months is uniformly distributed and ranges from 0 to 30 lbs. \n",
    "\n",
    "Find the probability of a person that he will gain between 10 and 15lbs in the winter months."
   ]
  },
  {
   "cell_type": "markdown",
   "metadata": {},
   "source": [
    "Q8: What is the z score? State the importance of the z score."
   ]
  },
  {
   "cell_type": "markdown",
   "metadata": {},
   "source": [
    "\n",
    "A z-score measures the distance between a data point and the mean using standard deviations.\n",
    "\n",
    "Z-scores can be positive or negative. The sign tells you whether the observation is above or below the mean.\n",
    "\n",
    "For example, a z-score of +2 indicates that the data point falls two standard deviations above the mean, while a -2 signifies it is two standard deviations below the mean. A z-score of zero equals the mean. Statisticians also refer to z-scores as standard scores, and I’ll use those terms interchangeably.\n",
    "\n",
    "Standardizing the raw data by transforming them into z-scores provides the following benefits:\n",
    "\n",
    "Understand where a data point fits into a distribution.\n",
    "\n",
    "Compare observations between dissimilar variables.\n",
    "\n",
    "Identify outliers\n",
    "\n",
    "Calculate probabilities and percentiles using the standard normal distribution."
   ]
  },
  {
   "cell_type": "markdown",
   "metadata": {},
   "source": [
    "Q9: What is Central Limit Theorem? State the significance of the Central Limit Theorem."
   ]
  },
  {
   "cell_type": "markdown",
   "metadata": {},
   "source": [
    "In probability theory, the central limit theorem (CLT) states that the distribution of a sample variable approximates a normal distribution (i.e., a “bell curve”) as\n",
    "\n",
    "the sample size becomes larger, assuming that all samples are identical in size, and regardless of the population's actual distribution shape.\n",
    "\n",
    "Importance of Central Limit Theorem:\n",
    "\n",
    "This is useful since the researcher never knows which mean in the sampling distribution corresponds to the population mean,\n",
    "\n",
    "but by taking numerous random samples from a population, the sample means will cluster together, allowing the researcher to obtain a very accurate estimate of the population mean."
   ]
  },
  {
   "cell_type": "markdown",
   "metadata": {},
   "source": [
    "Q10: State the assumptions of the Central Limit Theorem."
   ]
  },
  {
   "cell_type": "markdown",
   "metadata": {},
   "source": [
    "The data must adhere to the randomization rule. It needs to be sampled at random.\n",
    "\n",
    "The samples should be unrelated to one another. One sample should not impact the others.\n",
    "\n",
    "When taking samples without replacement, the sample size should not exceed 10% of the population."
   ]
  },
  {
   "cell_type": "code",
   "execution_count": null,
   "metadata": {},
   "outputs": [],
   "source": []
  }
 ],
 "metadata": {
  "kernelspec": {
   "display_name": "Python 3",
   "language": "python",
   "name": "python3"
  },
  "language_info": {
   "codemirror_mode": {
    "name": "ipython",
    "version": 3
   },
   "file_extension": ".py",
   "mimetype": "text/x-python",
   "name": "python",
   "nbconvert_exporter": "python",
   "pygments_lexer": "ipython3",
   "version": "3.8.5"
  }
 },
 "nbformat": 4,
 "nbformat_minor": 4
}
