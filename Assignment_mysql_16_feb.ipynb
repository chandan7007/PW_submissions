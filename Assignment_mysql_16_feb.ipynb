{
 "cells": [
  {
   "cell_type": "markdown",
   "metadata": {},
   "source": [
    "Q1. What is a database? Differentiate between SQL and NoSQL databases."
   ]
  },
  {
   "cell_type": "markdown",
   "metadata": {},
   "source": [
    "A database is information that is set up for easy access, management and updating.\n",
    "\n",
    "Computer databases typically store aggregations of data records or files that contain information,\n",
    "\n",
    "such as sales transactions, customer data, financials and product information.\n",
    "\n",
    "Databases are used for storing, maintaining and accessing any sort of data.\n",
    "\n",
    "They collect information on people, places or things. That information is gathered in one place\n",
    "\n",
    "so that it can be observed and analyzed. Databases can be thought of as an organized collection of information."
   ]
  },
  {
   "cell_type": "markdown",
   "metadata": {},
   "source": [
    "SQL:\n",
    "RELATIONAL DATABASE MANAGEMENT SYSTEM (RDBMS)\n",
    "\n",
    "These databases have fixed or static or predefined schema \n",
    "\n",
    "These databases are not suited for hierarchical data storage\n",
    "\n",
    "These databases are best suited for complex queries,\n",
    "Vertically Scalable\n",
    "\n",
    "Follows ACID property\n",
    "\n",
    "NoSQL:\n",
    "Non-relational or distributed database system.\n",
    "\n",
    "They have dynamic schema\n",
    "\n",
    "These databases are best suited for hierarchical data storage.\n",
    "\n",
    "These databases are not so good for complex queries\n",
    "\n",
    "horizontally scalable\n",
    "\n",
    "Follows CAP(consistency, availability, partition tolerance)"
   ]
  },
  {
   "cell_type": "markdown",
   "metadata": {},
   "source": [
    "Q2. What is DDL? Explain why CREATE, DROP, ALTER, and TRUNCATE are used with an example."
   ]
  },
  {
   "cell_type": "markdown",
   "metadata": {},
   "source": [
    "Data definition language (DDL) describes the portion of SQL that creates, alters, and deletes database objects.\n",
    "These database objects include schemas, tables, views, sequences, catalogs, indexes, variables, masks, permissions, and aliases.\n",
    "Creating a schema."
   ]
  },
  {
   "cell_type": "markdown",
   "metadata": {},
   "source": [
    "DDL Commands :\n",
    "In this section, We will cover the following DDL commands as follows.\n",
    "\n",
    "Create\n",
    "Alter \n",
    "truncate\n",
    "drop\n",
    "Let’s discuss it one by one.\n",
    "\n",
    "\n",
    "#Command-1 :\n",
    "\n",
    "CREATE :\n",
    "    \n",
    "This command is used to create a new table in SQL. The user has to give information like table name, column names, and their datatypes.\n",
    "\n",
    "Syntax –\n",
    "\n",
    "CREATE TABLE table_name\n",
    "(\n",
    "column_1 datatype,\n",
    "column_2 datatype,\n",
    "column_3 datatype,\n",
    "....\n",
    ");\n",
    "\n",
    "Example –\n",
    "\n",
    "We need to create a table for storing Student information of a particular College. Create syntax would be as below.\n",
    "\n",
    "CREATE TABLE Student_info\n",
    "(\n",
    "College_Id number(2),\n",
    "College_name varchar(30),\n",
    "Branch varchar(10)\n",
    ");\n",
    "\n",
    "#Command-2 :\n",
    "    \n",
    "ALTER :\n",
    "    \n",
    "This command is used to add, delete or change columns in the existing table. The user needs to know the existing table name and can do add, delete or modify tasks easily.\n",
    "\n",
    "Syntax –\n",
    "\n",
    "Syntax to add a column to an existing table.\n",
    "\n",
    "ALTER TABLE table_name\n",
    "\n",
    "ADD column_name datatype;\n",
    "\n",
    "Example –\n",
    "\n",
    "In our Student_info table, we want to add a new column for CGPA. The syntax would be as below as follows.\n",
    "\n",
    "ALTER TABLE Student_info\n",
    "\n",
    "ADD CGPA number;\n",
    "\n",
    "#Command-3 :\n",
    "    \n",
    "TRUNCATE :\n",
    "    \n",
    "This command is used to remove all rows from the table, but the structure of the table still exists.\n",
    "\n",
    "Syntax –\n",
    "\n",
    "Syntax to remove an existing table.\n",
    "\n",
    "TRUNCATE TABLE table_name;\n",
    "\n",
    "Example –\n",
    "\n",
    "The College Authority wants to remove the details of all students for new batches but wants to keep the table structure. The command they can use is as follows.\n",
    "\n",
    "TRUNCATE TABLE Student_info;\n",
    "\n",
    "#Command-4 :\n",
    "\n",
    "DROP :\n",
    "    \n",
    "This command is used to remove an existing table along with its structure from the Database.\n",
    "\n",
    "Syntax –\n",
    "\n",
    "Syntax to drop an existing table.\n",
    "\n",
    "DROP TABLE table_name;\n",
    "\n",
    "Example –\n",
    "\n",
    "If the College Authority wants to change their Database by deleting the Student_info Table. \n",
    "\n",
    "DROP TABLE Student_info;"
   ]
  },
  {
   "cell_type": "markdown",
   "metadata": {},
   "source": [
    "Q3. What is DML? Explain INSERT, UPDATE, and DELETE with an example."
   ]
  },
  {
   "cell_type": "markdown",
   "metadata": {},
   "source": [
    "DML stands for Data Manipulation Language. \n",
    "Tables and formulas are helpful when communicating with data stored up to a point in a database through SQL, \n",
    "\n",
    "but a time comes when we actually want to execute some fairly complicated data interactions.\n",
    "\n",
    "We will also need the Data Manipulation Language in that situation. DML is a way to inform a database precisely\n",
    "\n",
    "what we want it to do by conversing in a manner that it has been built to comprehend from the scratch.\n",
    "\n",
    "When it comes to interacting within existing data, whether adding, moving, or deleting data, \n",
    "\n",
    "it provides a convenient way to do so"
   ]
  },
  {
   "cell_type": "markdown",
   "metadata": {},
   "source": [
    "Data Manipulation Language (DML) commands are as follows:\n",
    "\n",
    "\n",
    "INSERT Command –\n",
    "This command is used to enter the information or values into a row. We can connect one or more records to a single table within a repository using this instruction. This is often used to connect an unused tag to the documents.\n",
    "Syntax :\n",
    "\n",
    "INSERT INTO <table_name> ('column_name1' <datatype>, 'column_name2' <datatype>)\n",
    "\n",
    "VALUES ('value1', 'value2'); \n",
    "Example :\n",
    "\n",
    "INSERT INTO students ('stu_id' int, 'stu_name' varchar(20), 'city' varchar(20))\n",
    "\n",
    "VALUES ('1', 'Nirmit', 'Gorakhpur'); \n",
    "UPDATE Command –\n",
    "This command is used to alter existing table records. Within a table, it modifies data from one or more records. This command is used to alter the data which is already present in a table.\n",
    "Syntax :\n",
    "\n",
    "UPDATE <table_name>\n",
    "\n",
    "SET <column_name = value>\n",
    "\n",
    "WHERE condition; \n",
    "Example :\n",
    "\n",
    "UPDATE students\n",
    "\n",
    "SET due_fees = 20000\n",
    "\n",
    "WHERE stu_name = 'Mini'; \n",
    "DELETE Command –\n",
    "It deletes all archives from a table. This command is used to erase some or all of the previous table’s records. If we do not specify the ‘WHERE’ condition then all the rows would be erased or deleted.\n",
    "Syntax :\n",
    "\n",
    "DELETE FROM <table_name>\n",
    "\n",
    "WHERE <condition>; \n",
    "Example :\n",
    "\n",
    "DELETE FROM students\n",
    "\n",
    "WHERE stu_id = '001'; \n"
   ]
  },
  {
   "cell_type": "markdown",
   "metadata": {},
   "source": [
    "Q4. What is DQL? Explain SELECT with an example."
   ]
  },
  {
   "cell_type": "markdown",
   "metadata": {},
   "source": [
    "DQL statements are used for performing queries on the data within schema objects.\n",
    "The purpose of the DQL Command is to get some schema relation based on the query passed to it.\n",
    "We can define DQL as follows it is a component of SQL statement that allows getting data from the database and \n",
    "imposing order upon it. It includes the SELECT statement. \n",
    "This command allows getting the data out of the database to perform operations with it.\n",
    "When a SELECT is fired against a table or tables the result is compiled into a further temporary table, \n",
    "which is displayed or perhaps received by the program i.e. a front-end.\n",
    "\n",
    "List of DQL: \n",
    "\n",
    "SELECT: It is used to retrieve data from the database.\n",
    "    \n",
    "SELECT Command –\n",
    "This command is used to get data out of the database. It helps users of the database to access from an operating system, the significant data they need. It sends a track result set from one tables or more.\n",
    "Syntax :\n",
    "\n",
    "SELECT * \n",
    "FROM <table_name>; \n",
    "Example :\n",
    "\n",
    "SELECT * \n",
    "FROM students;\n",
    "\n",
    "OR\n",
    "\n",
    "SELECT * \n",
    "FROM students\n",
    "where due_fees <=20000;"
   ]
  },
  {
   "cell_type": "markdown",
   "metadata": {},
   "source": [
    "Q5. Explain Primary Key and Foreign Key."
   ]
  },
  {
   "cell_type": "markdown",
   "metadata": {},
   "source": [
    "Primary Key: A primary key is used to ensure that data in the specific column is unique.\n",
    "A column cannot have NULL values. \n",
    "It is either an existing table column or a column that is specifically generated by the database\n",
    "according to a defined sequence. \n",
    "\n",
    "Example: Refer the figure – \n",
    "STUD_NO, as well as STUD_PHONE both, are candidate keys for relation STUDENT but STUD_NO can be chosen as\n",
    "the primary key (only one out of many candidate keys). \n",
    "\n",
    "Foreign Key: \n",
    "A foreign key is a column or group of columns in a relational database table that provides \n",
    "a link between data in two tables. It is a column (or columns) that references a column (most often the primary key)\n",
    "of another table. \n",
    "\n",
    "Example: Refer the figure – \n",
    "STUD_NO in STUDENT_COURSE is a foreign key to STUD_NO in STUDENT relation. \n",
    "\n"
   ]
  },
  {
   "cell_type": "markdown",
   "metadata": {},
   "source": [
    "Q6. Write a python code to connect MySQL to python. Explain the cursor() and execute() method."
   ]
  },
  {
   "cell_type": "code",
   "execution_count": 1,
   "metadata": {},
   "outputs": [
    {
     "name": "stdout",
     "output_type": "stream",
     "text": [
      "(1, 'chandan', 60, 'patna')\n",
      "(2, 'mani', 40, 'delhi')\n"
     ]
    }
   ],
   "source": [
    "import mysql.connector\n",
    "cnx = mysql.connector.connect(user='??????', password='???????',\n",
    "                              host='127.0.0.1',\n",
    "                              database='mydb')\n",
    "cursor = cnx.cursor()\n",
    "\n",
    "query = (\"SELECT * FROM student\")\n",
    "\n",
    "cursor.execute(query)\n",
    "for i in cursor:\n",
    "    print(i)\n",
    "cursor.close()\n",
    "cnx.close()"
   ]
  },
  {
   "cell_type": "markdown",
   "metadata": {},
   "source": [
    "The MySQLCursor of mysql-connector-python (and similar libraries) is used to execute statements to communicate with the MySQL database.\n",
    "\n",
    "Using the methods of it you can execute SQL statements, fetch data from the result sets, call procedures.\n",
    "\n",
    "You can create Cursor object using the cursor() method of the Connection object/class"
   ]
  },
  {
   "cell_type": "markdown",
   "metadata": {},
   "source": [
    "execute()\n",
    "\n",
    "This method accepts a MySQL query as a parameter and executes the given query."
   ]
  },
  {
   "cell_type": "markdown",
   "metadata": {},
   "source": [
    "Q7. Give the order of execution of SQL clauses in an SQL query."
   ]
  },
  {
   "cell_type": "markdown",
   "metadata": {},
   "source": [
    "In SQL, the first clause that is processed is the FROM clause, \n",
    "while the SELECT clause, which appears first in an SQL query, is processed much later. \n",
    "\n",
    "The phases involved in the logical processing of an SQL query are as follows:\n",
    "\n",
    "FROM clause\n",
    "\n",
    "ON clause\n",
    "\n",
    "OUTER clause\n",
    "\n",
    "WHERE clause\n",
    "\n",
    "GROUP BY clause\n",
    "\n",
    "HAVING clause\n",
    "\n",
    "SELECT clause\n",
    "\n",
    "DISTINCT clause\n",
    "\n",
    "ORDER BY clause\n",
    "\n",
    "TOP clause"
   ]
  },
  {
   "cell_type": "markdown",
   "metadata": {},
   "source": []
  }
 ],
 "metadata": {
  "kernelspec": {
   "display_name": "Python 3",
   "language": "python",
   "name": "python3"
  },
  "language_info": {
   "codemirror_mode": {
    "name": "ipython",
    "version": 3
   },
   "file_extension": ".py",
   "mimetype": "text/x-python",
   "name": "python",
   "nbconvert_exporter": "python",
   "pygments_lexer": "ipython3",
   "version": "3.8.5"
  }
 },
 "nbformat": 4,
 "nbformat_minor": 4
}
