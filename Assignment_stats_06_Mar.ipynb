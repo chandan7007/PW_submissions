{
 "cells": [
  {
   "cell_type": "markdown",
   "metadata": {},
   "source": [
    "Q1. What is Statistics?"
   ]
  },
  {
   "cell_type": "markdown",
   "metadata": {},
   "source": [
    "Statistics is a branch that deals with every aspect of the data. Statistical knowledge helps \n",
    "\n",
    "to choose the proper method of collecting the data and employ those samples in the correct analysis\n",
    "\n",
    "process in order to effectively produce the results. In short, statistics is a crucial process which helps\n",
    "\n",
    "to make the decision based on the data."
   ]
  },
  {
   "cell_type": "markdown",
   "metadata": {},
   "source": [
    "Q2. Define the different types of statistics and give an example of when each type might be used."
   ]
  },
  {
   "cell_type": "markdown",
   "metadata": {},
   "source": [
    "\n",
    "Statistics have majorly categorised into two types:\n",
    "\n",
    "Descriptive statistics\n",
    "\n",
    "Inferential statistics\n",
    "\n",
    "1) Descriptive Statistics\n",
    "\n",
    "In this type of statistics, the data is summarised through the given observations. \n",
    "\n",
    "The summarisation is one from a sample of population using parameters such as the mean or standard deviation.\n",
    "\n",
    "Descriptive statistics is a way to organise, represent and describe a collection of data using tables, graphs, \n",
    "\n",
    "and summary measures. For example, the collection of people in a city using the internet or using Television.\n",
    "\n",
    "Descriptive statistics are also categorised into four different categories:\n",
    "\n",
    "a)Measure of frequency\n",
    "b)Measure of dispersion\n",
    "c)Measure of central tendency\n",
    "d)Measure of position\n",
    "\n",
    "The frequency measurement displays the number of times a particular data occurs.\n",
    "Range, Variance, Standard Deviation are measures of dispersion. It identifies the spread of data. \n",
    "Central tendencies are the mean, median and mode of the data. \n",
    "And the measure of position describes the percentile and quartile ranks.\n",
    "\n",
    "2) Inferential Statistics\n",
    "\n",
    "This type of statistics is used to interpret the meaning of Descriptive statistics.\n",
    "That means once the data has been collected, analysed and summarised then \n",
    "we use these stats to describe the meaning of the collected data. Or we can say, \n",
    "it is used to draw conclusions from the data that depends on random variations such as observational errors, \n",
    "sampling variation, etc.\n",
    "\n",
    "Inferential Statistics is a method that allows us to use information collected from a sample to make decisions,\n",
    "predictions or inferences from a population.\n",
    "It grants us permission to give statements that goes beyond the available data or information. For example, \n",
    "deriving estimates from hypothetical research."
   ]
  },
  {
   "cell_type": "markdown",
   "metadata": {},
   "source": [
    "Q3. What are the different types of data and how do they differ from each other? Provide an example of\n",
    "each type of data."
   ]
  },
  {
   "cell_type": "markdown",
   "metadata": {},
   "source": [
    "Types of Data In Statistics:\n",
    "In statistics, there are four main types of data: nominal, ordinal, interval, and ratio. \n",
    "These types of data are used to describe the nature of the data being collected or analyzed, \n",
    "and they help determine the appropriate statistical tests to use.\n",
    "\n",
    "a)Nominal Data:\n",
    "    Nominal data is a type of data that consists of categories or names that cannot be ordered or ranked.\n",
    "    \n",
    "    Nominal data is often used to categorize observations into groups, and the groups are not comparable. \n",
    "    \n",
    "    In other words, nominal data has no inherent order or ranking. Examples of nominal data include gender (male/female), \n",
    "    \n",
    "    race (White/Black/Asian), religion (Christianity/Islam/Judaism), and blood type (A/B/AB/O).\n",
    "\n",
    "    Nominal data can be represented using frequency tables and bar charts,\n",
    "    \n",
    "    which display the number or proportion of observations in each category.\n",
    "    \n",
    "b)Ordinal Data:\n",
    "    Ordinal data is a type of data that consists of categories that can be ordered or ranked. However, \n",
    "    \n",
    "    the distance between categories is not necessarily equal. Ordinal data is often used to measure subjective attributes\n",
    "    \n",
    "    or opinions, where there is a natural order to the responses. \n",
    "    \n",
    "    Examples of ordinal data include education level (elementary/middle/high school/college), \n",
    "    \n",
    "    job position (manager/supervisor/employee), and Likert scales (strongly agree/agree/disagree/strongly disagree)\n",
    "    \n",
    "c)Interval Data:\n",
    "    \n",
    "        Interval data is a type of data that consists of numerical values where the distance between each value is equal.\n",
    "        \n",
    "        However, there is no true zero point. Interval data is often used to measure attributes such as temperature, dates,\n",
    "        \n",
    "        and time. Examples of interval data include temperature (Celsius/Fahrenheit), dates (days/months/years), and\n",
    "        \n",
    "        time (hours/minutes/seconds).\n",
    "        \n",
    "Ratio data is a type of data that has a true zero point and an equal distance between each value. \n",
    "\n",
    "Ratio data is considered the most informative type of data because it can be used to make meaningful comparisons\n",
    "\n",
    "and calculations. In addition, ratio data can be used to perform all types of statistical analyses.\n",
    "\n",
    "Examples of ratio data include height (inches/centimeters), weight (pounds/kilograms), income (dollars), and\n",
    "\n",
    "distance (miles/kilometers). For instance, if someone’s height is 60 inches, it means that they are 5 feet tall,\n",
    "\n",
    "and if their height is 72 inches, it means that they are 6 feet tall. Moreover, if someone’s weight is 150 pounds,\n",
    "\n",
    "it means that they weigh 68 kilograms."
   ]
  },
  {
   "cell_type": "markdown",
   "metadata": {},
   "source": [
    "Q4. Categorise the following datasets with respect to quantitative and qualitative data types:\n",
    "(i) Grading in exam: A+, A, B+, B, C+, C, D, E\n",
    "(ii) Colour of mangoes: yellow, green, orange, red\n",
    "(iii) Height data of a class: [178.9, 179, 179.5, 176, 177.2, 178.3, 175.8,...]\n",
    "(iv) Number of mangoes exported by a farm: [500, 600, 478, 672, ...]"
   ]
  },
  {
   "cell_type": "markdown",
   "metadata": {},
   "source": [
    "(i) Grading in exam: A+, A, B+, B, C+, C, D, E\n",
    "    \n",
    "    ordinal\n",
    "    \n",
    "(ii) Colour of mangoes: yellow, green, orange, red\n",
    "    \n",
    "    nominal\n",
    "    \n",
    "(iii) Height data of a class: [178.9, 179, 179.5, 176, 177.2, 178.3, 175.8,...]\n",
    "    \n",
    "    interval\n",
    "    \n",
    "(iv) Number of mangoes exported by a farm: [500, 600, 478, 672, ...]\n",
    "    \n",
    "    ratio"
   ]
  },
  {
   "cell_type": "markdown",
   "metadata": {},
   "source": [
    "Q5. Explain the concept of levels of measurement and give an example of a variable for each level."
   ]
  },
  {
   "cell_type": "markdown",
   "metadata": {},
   "source": [
    "In descending order of precision, the four different levels of measurement are:\n",
    "\n",
    "Nominal–Latin for name only (Republican, Democrat, Green, Libertarian)\n",
    "\n",
    "Ordinal–Think ordered levels or ranks (small–8oz, medium–12oz, large–32oz)\n",
    "\n",
    "Interval–Equal intervals among levels (1 dollar to 2 dollars is the same interval as 88 dollars to 89 dollars)\n",
    "\n",
    "Ratio–Let the “o” in ratio remind you of a zero in the scale (Day 0, day 1, day 2, day 3, …)"
   ]
  },
  {
   "cell_type": "markdown",
   "metadata": {},
   "source": [
    "Q6. Why is it important to understand the level of measurement when analyzing data? Provide an\n",
    "\n",
    "example to illustrate your answer."
   ]
  },
  {
   "cell_type": "markdown",
   "metadata": {},
   "source": [
    "Levels of measurement, also called scales of measurement, tell you how precisely variables are recorded.\n",
    "\n",
    "In scientific research, a variable is anything that can take on different values across your data set\n",
    "\n",
    "(e.g., height or test scores).\n",
    "\n",
    "Nominal–Latin for name only (Republican, Democrat, Green, Libertarian)\n",
    "\n",
    "Ordinal–Think ordered levels or ranks (small–8oz, medium–12oz, large–32oz)\n",
    "\n",
    "Interval–Equal intervals among levels (1 dollar to 2 dollars is the same interval as 88 dollars to 89 dollars)\n",
    "\n",
    "Ratio–Let the “o” in ratio remind you of a zero in the scale (Day 0, day 1, day 2, day 3, …)\n"
   ]
  },
  {
   "cell_type": "markdown",
   "metadata": {},
   "source": [
    "Nominal data is a group of non-parametric variables, whereas Ordinal data is a group of non-parametric ordered variables. \n",
    "\n",
    "Ordinal data is analyzed by mode, median, quartiles, and percentile, \n",
    "\n",
    "whereas nominal data is analyzed by grouping variables into categories and calculating the distribution mode"
   ]
  },
  {
   "cell_type": "markdown",
   "metadata": {},
   "source": [
    "Q8. Which type of plot can be used to display data in terms of range?"
   ]
  },
  {
   "cell_type": "markdown",
   "metadata": {},
   "source": [
    "histogram, bar chart , pie chart"
   ]
  },
  {
   "cell_type": "markdown",
   "metadata": {},
   "source": [
    "Q9. Describe the difference between descriptive and inferential statistics. Give an example of each\n",
    "type of statistics and explain how they are used."
   ]
  },
  {
   "cell_type": "markdown",
   "metadata": {},
   "source": [
    "Statistics have majorly categorised into two types:\n",
    "\n",
    "Descriptive statistics\n",
    "\n",
    "Inferential statistics\n",
    "\n",
    "1) Descriptive Statistics\n",
    "\n",
    "In this type of statistics, the data is summarised through the given observations.\n",
    "\n",
    "The summarisation is one from a sample of population using parameters such as the mean or standard deviation.\n",
    "\n",
    "Descriptive statistics is a way to organise, represent and describe a collection of data using tables, graphs,\n",
    "\n",
    "and summary measures. For example, the collection of people in a city using the internet or using Television.\n",
    "\n",
    "Descriptive statistics are also categorised into four different categories:\n",
    "\n",
    "a)Measure of frequency b)Measure of dispersion c)Measure of central tendency d)Measure of position\n",
    "\n",
    "The frequency measurement displays the number of times a particular data occurs. Range, Variance, Standard Deviation are measures of dispersion. It identifies the spread of data. Central tendencies are the mean, median and mode of the data. And the measure of position describes the percentile and quartile ranks.\n",
    "\n",
    "2) Inferential Statistics\n",
    "\n",
    "This type of statistics is used to interpret the meaning of Descriptive statistics. That means once the data has been collected, analysed and summarised then we use these stats to describe the meaning of the collected data. Or we can say, it is used to draw conclusions from the data that depends on random variations such as observational errors, sampling variation, etc.\n",
    "\n",
    "Inferential Statistics is a method that allows us to use information collected from a sample to make decisions, predictions or inferences from a population. It grants us permission to give statements that goes beyond the available data or information. For example, deriving estimates from hypothetical research."
   ]
  },
  {
   "cell_type": "markdown",
   "metadata": {},
   "source": [
    "Q10. What are some common measures of central tendency and variability used in statistics? \n",
    "Explain how each measure can be used to describe a dataset."
   ]
  },
  {
   "cell_type": "markdown",
   "metadata": {},
   "source": [
    "Central tendency and variation are two measures used in statistics to summarize data. \n",
    "\n",
    "Measure of central tendency shows where the center or middle of the data set is located,\n",
    "\n",
    "whereas measure of variation shows the dispersion among data values\n",
    "\n",
    "\n",
    "There are three main measures of central tendency:\n",
    "    \n",
    "mode.\n",
    "\n",
    "median.\n",
    "\n",
    "mean."
   ]
  },
  {
   "cell_type": "code",
   "execution_count": null,
   "metadata": {},
   "outputs": [],
   "source": []
  }
 ],
 "metadata": {
  "kernelspec": {
   "display_name": "Python 3",
   "language": "python",
   "name": "python3"
  },
  "language_info": {
   "codemirror_mode": {
    "name": "ipython",
    "version": 3
   },
   "file_extension": ".py",
   "mimetype": "text/x-python",
   "name": "python",
   "nbconvert_exporter": "python",
   "pygments_lexer": "ipython3",
   "version": "3.8.5"
  }
 },
 "nbformat": 4,
 "nbformat_minor": 4
}
