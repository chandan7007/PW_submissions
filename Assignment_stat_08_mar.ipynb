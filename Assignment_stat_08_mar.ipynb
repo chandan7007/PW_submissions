{
 "cells": [
  {
   "cell_type": "markdown",
   "metadata": {},
   "source": [
    "Q1. What is the Probability density function?"
   ]
  },
  {
   "cell_type": "markdown",
   "metadata": {},
   "source": [
    "Probability density function (PDF) is a statistical expression that defines a probability distribution \n",
    "\n",
    "(the likelihood of an outcome) for a discrete random variable (e.g., a stock or ETF) as opposed to a continuous random variable.\n",
    "\n",
    "The difference between a discrete random variable is that you can identify an exact value of the variable.\n",
    "\n",
    "The normal distribution is a common example of a PDF, forming the well-known bell curve shape."
   ]
  },
  {
   "cell_type": "markdown",
   "metadata": {},
   "source": [
    "Q2. What are the types of Probability distribution?"
   ]
  },
  {
   "cell_type": "markdown",
   "metadata": {},
   "source": [
    "list of distributions types\n",
    "\n",
    "Bernoulli Distribution\n",
    "\n",
    "Uniform Distribution\n",
    "\n",
    "Binomial Distribution\n",
    "\n",
    "Normal or Gaussian Distribution\n",
    "\n",
    "Exponential Distribution\n",
    "\n",
    "Poisson Distribution"
   ]
  },
  {
   "cell_type": "markdown",
   "metadata": {},
   "source": [
    "Q3. Write a Python function to calculate the probability density function of a normal distribution with\n",
    "given mean and standard deviation at a given point."
   ]
  },
  {
   "cell_type": "code",
   "execution_count": 3,
   "metadata": {},
   "outputs": [],
   "source": [
    "def prob_den(x,y,z):   \n",
    "    from scipy.stats import norm\n",
    "    import numpy as np  \n",
    "    mean =x\n",
    "    std =y\n",
    "    probability_pdf = norm.pdf(z, loc=mean, scale=std)\n",
    "    return probability_pdf"
   ]
  },
  {
   "cell_type": "code",
   "execution_count": 4,
   "metadata": {},
   "outputs": [
    {
     "data": {
      "text/plain": [
       "0.02699548325659403"
      ]
     },
     "execution_count": 4,
     "metadata": {},
     "output_type": "execute_result"
    }
   ],
   "source": [
    "prob_den(5,2,1)"
   ]
  },
  {
   "cell_type": "markdown",
   "metadata": {},
   "source": [
    "Q4. What are the properties of Binomial distribution? Give two examples of events where binomial\n",
    "distribution can be applied."
   ]
  },
  {
   "cell_type": "markdown",
   "metadata": {},
   "source": [
    "In probability theory and statistics, the binomial distribution is the discrete probability distribution that \n",
    "\n",
    "gives only two possible results in an experiment, either Success or Failure.\n",
    "\n",
    "For example, if we toss a coin, there could be only two possible outcomes: heads or tails,\n",
    "    \n",
    "and if any test is taken, then there could be only two results: pass or fail.\n",
    "    \n",
    "This distribution is also called a binomial probability distribution.\n",
    "\n",
    "As we already know, binomial distribution gives the possibility of a different set of outcomes. In real life, the concept is used for:\n",
    "\n",
    "Finding the quantity of raw and used materials while making a product.\n",
    "\n",
    "Taking a survey of positive and negative reviews from the public for any specific product or place.\n",
    "\n",
    "By using the YES/ NO survey, we can check whether the number of persons views the particular channel\n",
    ".\n",
    "To find the number of male and female employees in an organisation.\n",
    "\n",
    "The number of votes collected by a candidate in an election is counted based on 0 or 1 probability."
   ]
  },
  {
   "cell_type": "markdown",
   "metadata": {},
   "source": [
    "Q5. Generate a random sample of size 1000 from a binomial distribution with probability of success 0.4\n",
    "\n",
    "and plot a histogram of the results using matplotlib."
   ]
  },
  {
   "cell_type": "code",
   "execution_count": 5,
   "metadata": {},
   "outputs": [
    {
     "data": {
      "image/png": "[encoded data removed]",
      "text/plain": [
       "<Figure size 432x288 with 1 Axes>"
      ]
     },
     "metadata": {
      "needs_background": "light"
     },
     "output_type": "display_data"
    }
   ],
   "source": [
    "from scipy.stats import binom\n",
    "import matplotlib.pyplot as plt\n",
    "# setting the values\n",
    "# of n and p\n",
    "n = 1000\n",
    "p = 0.4\n",
    "# defining list of r values\n",
    "r_values = list(range(n + 1))\n",
    "# list of pmf values\n",
    "dist = [binom.pmf(r, n, p) for r in r_values ]\n",
    "# plotting the graph \n",
    "plt.bar(r_values, dist)\n",
    "plt.show()"
   ]
  },
  {
   "cell_type": "markdown",
   "metadata": {},
   "source": [
    "Q6. Write a Python function to calculate the cumulative distribution function of a Poisson distribution\n",
    "with given mean at a given point."
   ]
  },
  {
   "cell_type": "code",
   "execution_count": 6,
   "metadata": {},
   "outputs": [
    {
     "name": "stdout",
     "output_type": "stream",
     "text": [
      "poisson_prob(k<=8) using_cdf  0.9319063652781516\n"
     ]
    }
   ],
   "source": [
    "from scipy.stats import poisson\n",
    "import matplotlib.pyplot as plt\n",
    "\n",
    "poisson_prob =[0]*25\n",
    "# number of customers k ranging between 0 and 24\n",
    "k_val = [i for i in range(0, 25)]\n",
    "# λ is Average number of customers\n",
    "λ = 5\n",
    "for i in k_val:\n",
    "     # calculating poisson pmf for each value in k_val list\n",
    "    poisson_prob[i] = poisson.pmf(k = i, mu = λ)\n",
    "# summing each probability for k ranging over [0,1,2,3,4,5,6,7,8] to calculate poisson_prob(k<=8)\n",
    "using_pmf_sum = sum([poisson_prob[j]  for j in range(0, 9)])\n",
    "# using possion cdf function to calculate poisson_prob(k<=8)\n",
    "using_cdf = poisson.cdf(k= 8, mu = 5 )\n",
    "print(\"poisson_prob(k<=8) using_cdf \", using_cdf)"
   ]
  },
  {
   "cell_type": "markdown",
   "metadata": {},
   "source": [
    "Q7. How Binomial distribution different from Poisson distribution"
   ]
  },
  {
   "cell_type": "markdown",
   "metadata": {},
   "source": [
    "Binomial Distribution:\n",
    "Binomial distribution is the one in which the number of outcomes are only two, that is success or failure.\n",
    "It is widely used and derived from the Bernoulli process. Now, binomial distribution has two parameters n and p, where n means number of trials and p means the success probability. Now, the mean and variance of binomial distribution are denoted by\n",
    "mean=np\n",
    "var=npq\n",
    "Example of binomial distribution: Coin toss.\n",
    "Poisson distribution:\n",
    "Poisson distribution is the one in which the number of possible outcomes has no limits.\n",
    "It describes the probability of certain events occurring in some time interval. It is uniparametric distribution as it has only one parameter λ\n",
    " or m. The mean and the variance of the poisson distribution are given by\n",
    " mean=lamda\n",
    "var=lamda*n\n",
    "Poisson distribution is used when the number of events is high and the probability of its occurrence is quite low.\n",
    "Example of Poisson distribution: Number of insurance claims per day on an insurance company."
   ]
  },
  {
   "cell_type": "markdown",
   "metadata": {},
   "source": [
    "Q8. Generate a random sample of size 1000 from a Poisson distribution with mean 5 and calculate the\n",
    "sample mean and variance."
   ]
  },
  {
   "cell_type": "code",
   "execution_count": 11,
   "metadata": {},
   "outputs": [
    {
     "name": "stdout",
     "output_type": "stream",
     "text": [
      "mean 5.035 var 4.899774999999999\n"
     ]
    }
   ],
   "source": [
    "import numpy as np\n",
    "s = np.random.poisson(5, 1000)\n",
    "print(\"mean\",s.mean(),\"var\",(s.std())**2)"
   ]
  },
  {
   "cell_type": "markdown",
   "metadata": {},
   "source": [
    "Q9. How mean and variance are related in Binomial distribution and Poisson distribution?\n"
   ]
  },
  {
   "cell_type": "markdown",
   "metadata": {},
   "source": [
    "in binomial Mean(np) > Variance (npq) and in posion Mean = Variance lammda"
   ]
  },
  {
   "cell_type": "markdown",
   "metadata": {},
   "source": [
    "Q10. In normal distribution with respect to mean position, where does the least frequent data appear?"
   ]
  },
  {
   "cell_type": "markdown",
   "metadata": {},
   "source": [
    "Normal distribution, also known as the Gaussian distribution, is a probability distribution that is symmetric about the mean, \n",
    "\n",
    "showing that data near the mean are more frequent in occurrence than data far from the mean."
   ]
  },
  {
   "cell_type": "code",
   "execution_count": null,
   "metadata": {},
   "outputs": [],
   "source": []
  }
 ],
 "metadata": {
  "kernelspec": {
   "display_name": "Python 3",
   "language": "python",
   "name": "python3"
  },
  "language_info": {
   "codemirror_mode": {
    "name": "ipython",
    "version": 3
   },
   "file_extension": ".py",
   "mimetype": "text/x-python",
   "name": "python",
   "nbconvert_exporter": "python",
   "pygments_lexer": "ipython3",
   "version": "3.8.5"
  }
 },
 "nbformat": 4,
 "nbformat_minor": 4
}
