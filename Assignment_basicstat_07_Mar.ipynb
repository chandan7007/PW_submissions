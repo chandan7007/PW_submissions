{
 "cells": [
  {
   "cell_type": "markdown",
   "metadata": {},
   "source": [
    "Q1. What are the three measures of central tendency?"
   ]
  },
  {
   "cell_type": "markdown",
   "metadata": {},
   "source": [
    "There are three main measures of central tendency: \n",
    "    \n",
    "    mode.\n",
    "    \n",
    "    median.\n",
    "    \n",
    "    mean."
   ]
  },
  {
   "cell_type": "markdown",
   "metadata": {},
   "source": [
    "Q2. What is the difference between the mean, median, and mode? \n",
    "\n",
    "How are they used to measure the\n",
    "\n",
    "central tendency of a dataset?"
   ]
  },
  {
   "cell_type": "markdown",
   "metadata": {},
   "source": [
    "Mean, median, and mode are the measures of central tendency, used to study the various characteristics of a given set of data.\n",
    "\n",
    "A measure of central tendency describes a set of data by identifying the central position in the data set as a single value.\n",
    "\n",
    "We can think of it as a tendency of data to cluster around a middle value. In statistics, \n",
    "\n",
    "the three most common measures of central tendencies are Mean, Median, and Mode.\n",
    "\n",
    "Mean: The mean is also known as the average, and it is calculated by adding up all \n",
    "    \n",
    "    the values in a data set and dividing by the total number of values.\n",
    "    \n",
    "Median: The median is the middle value of a data set, which separates the highest and lowest values equally. \n",
    "    \n",
    "    It is calculated by arranging the data set in order from lowest to highest and finding the value in the exact middle.\n",
    "    \n",
    "Mode: The mode is the value that appears most frequently in a data set."
   ]
  },
  {
   "cell_type": "markdown",
   "metadata": {},
   "source": [
    "Q3. Measure the three measures of central tendency for the given height data:\n",
    "    \n",
    "[178,177,176,177,178.2,178,175,179,180,175,178.9,176.2,177,172.5,178,176.5]"
   ]
  },
  {
   "cell_type": "code",
   "execution_count": 10,
   "metadata": {},
   "outputs": [
    {
     "name": "stdout",
     "output_type": "stream",
     "text": [
      "mean: 177.01875\n",
      "median 177.0\n",
      "mode ModeResult(mode=array([177.]), count=array([3]))\n"
     ]
    }
   ],
   "source": [
    "import numpy as np\n",
    "from scipy import stats\n",
    "l=[178,177,176,177,178.2,178,175,179,180,175,178.9,176.2,177,172.5,178,176.5]\n",
    "mean=np.mean(l)\n",
    "print(\"mean:\",mean)\n",
    "median=np.median(l)\n",
    "print(\"median\",median)\n",
    "mode=stats.mode(l)\n",
    "print(\"mode\",mode)"
   ]
  },
  {
   "cell_type": "markdown",
   "metadata": {},
   "source": [
    "Q4. Find the standard deviation for the given data:\n",
    "    \n",
    "[178,177,176,177,178.2,178,175,179,180,175,178.9,176.2,177,172.5,178,176.5]"
   ]
  },
  {
   "cell_type": "code",
   "execution_count": 14,
   "metadata": {},
   "outputs": [
    {
     "name": "stdout",
     "output_type": "stream",
     "text": [
      "standard deviation: 1.7885814036548633\n"
     ]
    }
   ],
   "source": [
    "import numpy as np\n",
    "from scipy import stats\n",
    "l=[178,177,176,177,178.2,178,175,179,180,175,178.9,176.2,177,172.5,178,176.5]\n",
    "std=np.std(l)\n",
    "print(\"standard deviation:\",std)"
   ]
  },
  {
   "cell_type": "markdown",
   "metadata": {},
   "source": [
    "Q5. How are measures of dispersion such as range, variance, and standard deviation used to describe\n",
    "the spread of a dataset? Provide an example."
   ]
  },
  {
   "cell_type": "markdown",
   "metadata": {},
   "source": [
    "Dispersion of data used to understands the distribution of data. \n",
    "\n",
    "It helps to understand the variation of data and provides a piece of information about the distribution data.\n",
    "\n",
    "Range, IOR, Variance, and Standard Deviation are the methods used to understand the distribution data.\n",
    "\n",
    "Dispersion of data helps to identify outliers in a given dataset. \n",
    "\n",
    "a)Range\n",
    "\n",
    "The range is the easiest dispersion of data or measure of variability.\n",
    "\n",
    "The range can measure by subtracting the lowest value from the massive Number. \n",
    "\n",
    "The wide range indicates high variability, and the small range specifies low variability in the distribution.\n",
    "\n",
    "To calculate a range, prepare all the values in ascending order, then subtract the lowest value from the highest value.\n",
    "\n",
    "Range = Highest_value  – Lowest_value\n",
    "\n",
    "b)Variance\n",
    "Variance is a simple measure of dispersion. Variance measures how far each number in the dataset from the mean.\n",
    "\n",
    "To compute variance first, calculate the mean and squared deviations from a mean.\n",
    "\n",
    "\n",
    "sample variance Dispersion of Data\n",
    "\n",
    "Observation near to mean value gets the lower result and far from means gets higher value.\n",
    "\n",
    "\n",
    "c)Standard Deviation\n",
    "\n",
    "Standard deviation is a squared root of the variance to get original values.\n",
    "\n",
    "Low standard deviation indicates data points close to mean.\n",
    "\n",
    "The normal distribution is conventional bits of help to understand the standard deviation."
   ]
  },
  {
   "cell_type": "markdown",
   "metadata": {},
   "source": [
    "Q6. What is a Venn diagram?"
   ]
  },
  {
   "cell_type": "markdown",
   "metadata": {},
   "source": [
    "A Venn diagram is an illustration that uses circles to show the relationships among things or finite groups of things.\n",
    "\n",
    "Circles that overlap have a commonality while circles that do not overlap do not share those traits.\n",
    "\n",
    "Venn diagrams help to visually represent the similarities and differences between two concepts."
   ]
  },
  {
   "cell_type": "markdown",
   "metadata": {},
   "source": [
    "Q7. For the two given sets A = (2,3,4,5,6,7) & B = (0,2,6,8,10). Find:\n",
    "(i) A B\n",
    "(ii) A ⋃ B"
   ]
  },
  {
   "cell_type": "code",
   "execution_count": 17,
   "metadata": {},
   "outputs": [
    {
     "name": "stdout",
     "output_type": "stream",
     "text": [
      "a {2, 3, 4, 5, 6, 7}\n",
      "b {0, 2, 6, 8, 10}\n",
      "intersection {2, 6}\n",
      "union {0, 2, 3, 4, 5, 6, 7, 8, 10}\n"
     ]
    }
   ],
   "source": [
    "a = {2,3,4,5,6,7}\n",
    "print(\"a\",a)\n",
    "b = {0,2,6,8,10}\n",
    "print(\"b\",b)\n",
    "\n",
    "z = a.intersection(b)\n",
    "print(\"intersection\",z)\n",
    "\n",
    "x=a.union(b)\n",
    "print(\"union\",x)\n"
   ]
  },
  {
   "cell_type": "markdown",
   "metadata": {},
   "source": [
    "Q8. What do you understand about skewness in data?"
   ]
  },
  {
   "cell_type": "markdown",
   "metadata": {},
   "source": [
    "Skewness is a measurement of the distortion of symmetrical distribution or asymmetry in a data set. \n",
    "\n",
    "Skewness is demonstrated on a bell curve when data points are not distributed symmetrically to the left and right sides\n",
    "\n",
    "of the median on a bell curve."
   ]
  },
  {
   "cell_type": "markdown",
   "metadata": {},
   "source": [
    "Q9. If a data is right skewed then what will be the position of median with respect to mean?"
   ]
  },
  {
   "cell_type": "markdown",
   "metadata": {},
   "source": [
    "When the distribution is skewed to the right, the mean is often greater than the median"
   ]
  },
  {
   "cell_type": "markdown",
   "metadata": {},
   "source": [
    "Q10. Explain the difference between covariance and correlation. How are these measures used in\n",
    "statistical analysis?"
   ]
  },
  {
   "cell_type": "markdown",
   "metadata": {},
   "source": [
    "Covariance is a statistical term that refers to a systematic relationship between two random variables in which a change in the other reflects a change in one variable.\n",
    "\n",
    "The covariance value can range from -∞ to +∞, with a negative value indicating a negative relationship and a positive value indicating a positive relationship.\n",
    "\n",
    "The greater this number, the more reliant the relationship. Positive covariance denotes a direct relationship and is represented by a positive number.\n",
    "\n",
    "A negative number, on the other hand, denotes negative covariance, which indicates an inverse relationship between the two variables. Covariance is great for defining the type of relationship,\n",
    "\n",
    "but it's terrible for interpreting the magnitude.\n",
    "\n",
    "\n",
    "In statistics, correlation is a measure that determines the degree to which two or more random variables move in sequence. \n",
    "\n",
    "When an equivalent movement of another variable reciprocates the movement of one variable in some way or another during the \n",
    "\n",
    "study of two variables, the variables are said to be correlated. "
   ]
  },
  {
   "cell_type": "markdown",
   "metadata": {},
   "source": [
    "Q11. What is the formula for calculating the sample mean? Provide an example calculation for a\n",
    "dataset."
   ]
  },
  {
   "cell_type": "markdown",
   "metadata": {},
   "source": [
    "The general formula for calculating the sample mean is given by x̄ = ( Σ xi ) / n. \n",
    "\n",
    "Here, x̄ represents the sample mean, xi refers all X sample values and \n",
    "\n",
    "n stands for the number of sample terms in the data set.\n",
    "\n"
   ]
  },
  {
   "cell_type": "code",
   "execution_count": 21,
   "metadata": {},
   "outputs": [
    {
     "name": "stdout",
     "output_type": "stream",
     "text": [
      "177.01875\n"
     ]
    }
   ],
   "source": [
    "l=[178,177,176,177,178.2,178,175,179,180,175,178.9,176.2,177,172.5,178,176.5]\n",
    "mean=np.mean(l)\n",
    "print(mean)"
   ]
  },
  {
   "cell_type": "markdown",
   "metadata": {},
   "source": [
    "Q12. For a normal distribution data what is the relationship between its measure of central tendency?"
   ]
  },
  {
   "cell_type": "markdown",
   "metadata": {},
   "source": [
    "Any normal distribution has a graph that is perfectly symmetric about a vertical line through its peak.\n",
    "\n",
    "Therefore, all measures of central tendency (most commonly, the mean, median, and mode) give the same answer: \n",
    "    \n",
    "    the x -value of the peak."
   ]
  },
  {
   "cell_type": "markdown",
   "metadata": {},
   "source": [
    "Q13. How is covariance different from correlation?"
   ]
  },
  {
   "cell_type": "markdown",
   "metadata": {},
   "source": [
    "see question 10th answer "
   ]
  },
  {
   "cell_type": "markdown",
   "metadata": {},
   "source": [
    "Q14. How do outliers affect measures of central tendency and dispersion? Provide an example."
   ]
  },
  {
   "cell_type": "markdown",
   "metadata": {},
   "source": [
    "When a outlier is present it can effect the shape of the graph, if we have outliers to the right of the graph. \n",
    "\n",
    "These outliers are causing the mean to increase, but if we have outliers to the left of the graph these outliers are dragging\n",
    "\n",
    "down the mean. This causes a conflict because the mean no longer provides a good representation of the data, alternatively\n",
    "\n",
    "we would much rather use the median.The median on the other hand is less likely to be affect by outliers"
   ]
  },
  {
   "cell_type": "code",
   "execution_count": 23,
   "metadata": {},
   "outputs": [
    {
     "name": "stdout",
     "output_type": "stream",
     "text": [
      "mean ages without outliers: 49.4\n",
      "mean ages with outliers: 90.36363636363636\n"
     ]
    }
   ],
   "source": [
    "ages_lst=[23,43,23,56,74,32,68,98,45,32]\n",
    "print(\"mean ages without outliers:\",np.mean(ages_lst))\n",
    "ages_lst1=[23,43,23,56,74,32,68,98,45,32,500]\n",
    "print(\"mean ages with outliers:\",np.mean(ages_lst1))"
   ]
  },
  {
   "cell_type": "code",
   "execution_count": null,
   "metadata": {},
   "outputs": [],
   "source": []
  }
 ],
 "metadata": {
  "kernelspec": {
   "display_name": "Python 3",
   "language": "python",
   "name": "python3"
  },
  "language_info": {
   "codemirror_mode": {
    "name": "ipython",
    "version": 3
   },
   "file_extension": ".py",
   "mimetype": "text/x-python",
   "name": "python",
   "nbconvert_exporter": "python",
   "pygments_lexer": "ipython3",
   "version": "3.8.5"
  }
 },
 "nbformat": 4,
 "nbformat_minor": 4
}
