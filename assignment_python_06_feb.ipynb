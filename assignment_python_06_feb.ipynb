{
 "cells": [
  {
   "cell_type": "markdown",
   "metadata": {},
   "source": [
    "Q1. Create a function which will take a list as an argument and return the product of all the numbers\n",
    "after creating a flat list.\n",
    "Use the below-given list as an argument for your function.\n",
    "list1 = [1,2,3,4, [44,55,66, True], False, (34,56,78,89,34), {1,2,3,3,2,1}, {1:34, \"key2\": [55, 67, 78, 89], 4: (45,\n",
    "22, 61, 34)}, [56, 'data science'], 'Machine Learning']\n",
    "Note: you must extract numeric keys and values of the dictionary also."
   ]
  },
  {
   "cell_type": "code",
   "execution_count": 14,
   "metadata": {},
   "outputs": [],
   "source": [
    "list1 = [1,2,3,4, [44,55,66, True], False, (34,56,78,89,34), {1,2,3,3,2,1}, {1:34, \"key2\": [55, 67, 78, 89], 4: (45,\n",
    "22, 61, 34)}, [56, 'data science'], 'Machine Learning']"
   ]
  },
  {
   "cell_type": "code",
   "execution_count": 44,
   "metadata": {},
   "outputs": [],
   "source": [
    "def extract(variable):\n",
    "    flat=[]\n",
    "    for i in variable:\n",
    "        #print(i,type(i))\n",
    "        if type(i)==int:\n",
    "            flat.append(i)\n",
    "        elif type(i)==list:\n",
    "            df=list(filter(lambda x: type(x)==int,i))\n",
    "            flat.extend(df)\n",
    "        elif type(i)==tuple:\n",
    "            zf=list(filter(lambda x: type(x)==int,i))\n",
    "            flat.extend(zf)\n",
    "        elif type(i)==set:\n",
    "            lf=list(filter(lambda x: type(x)==int,i))\n",
    "            flat.extend(lf)\n",
    "        elif type(i)==dict:\n",
    "            key_list=list(i.keys())\n",
    "            value_list=list(i.values())\n",
    "            tf=list(filter(lambda x: type(x)==int,key_list))\n",
    "            mf=list(filter(lambda x: type(x)==int,value_list))\n",
    "            flat.extend(tf)\n",
    "            flat.extend(mf)\n",
    "    return flat\n",
    "    \n"
   ]
  },
  {
   "cell_type": "code",
   "execution_count": 50,
   "metadata": {},
   "outputs": [
    {
     "name": "stdout",
     "output_type": "stream",
     "text": [
      "flat_list [1, 2, 3, 4, 44, 55, 66, 34, 56, 78, 89, 34, 1, 2, 3, 1, 4, 34, 55, 67, 78, 89, 45, 22, 61, 34, 56]\n",
      "multiply after all integer 4134711838987085478833841242112000\n"
     ]
    }
   ],
   "source": [
    "def func_mult(list1):\n",
    "    flat_list=[]\n",
    "    for i in list1:\n",
    "        #print(i,type(i))\n",
    "        if type(i)==int:\n",
    "            flat_list.append(i)\n",
    "        elif type(i)==list:\n",
    "            df=extract(i)\n",
    "            flat_list.extend(df)\n",
    "        elif type(i)==tuple:\n",
    "            zf=extract(i)\n",
    "            flat_list.extend(zf)\n",
    "        elif type(i)==set:\n",
    "            lf=extract(i)\n",
    "            flat_list.extend(lf)\n",
    "        elif type(i)==dict:\n",
    "            key_list=list(i.keys())\n",
    "            value_list=list(i.values())\n",
    "            tf=extract(key_list)\n",
    "            gh=extract(value_list)\n",
    "            flat_list.extend(tf)\n",
    "            flat_list.extend(gh)\n",
    "        else:\n",
    "            pass\n",
    "    return flat_list\n",
    "\n",
    "df_list=func_mult(list1)\n",
    "        \n",
    "print(\"flat_list\",df_list)\n",
    "from functools import reduce\n",
    "multi=reduce(lambda x,y:x*y,df_list)\n",
    "print(\"multiply after all integer\",multi)\n",
    "    \n",
    "    \n",
    "    "
   ]
  },
  {
   "cell_type": "markdown",
   "metadata": {},
   "source": [
    "Q2. Write a python program for encrypting a message sent to you by your friend. The logic of encryption\n",
    "should be such that, for a the output should be z. For b, the output should be y. For c, the output should\n",
    "be x respectively. Also, the whitespace should be replaced with a dollar sign. Keep the punctuation\n",
    "marks unchanged.\n",
    "Input Sentence: I want to become a Data Scientist.\n",
    "Encrypt the above input sentence using the program you just created.\n",
    "Note: Convert the given input sentence into lowercase before encrypting. The final output should be\n",
    "lowercase."
   ]
  },
  {
   "cell_type": "code",
   "execution_count": 2,
   "metadata": {},
   "outputs": [],
   "source": [
    "#first creating a dictionary \n",
    "dict_pair={'a':'z','b':'y','c':'x','d':'w','e':'v','f':'u','g':'t','h':'s','i':'r','j':'q','k':'p','l':'o','m':'n','n':'m','o':'l'\n",
    "            ,'p':'k','q':'j','r':'i','s':'h','t':'g','u':'f','v':'e','w':'d','x':'c','y':'b','z':'a'}"
   ]
  },
  {
   "cell_type": "code",
   "execution_count": 32,
   "metadata": {},
   "outputs": [],
   "source": [
    "msg=\"I want to become a Data Scientist\""
   ]
  },
  {
   "cell_type": "code",
   "execution_count": 33,
   "metadata": {},
   "outputs": [],
   "source": [
    "msg=msg.lower()"
   ]
  },
  {
   "cell_type": "code",
   "execution_count": 35,
   "metadata": {},
   "outputs": [
    {
     "name": "stdout",
     "output_type": "stream",
     "text": [
      "r$dzmg$gl$yvxlnv$z$wzgz$hxrvmgrhg.\n"
     ]
    }
   ],
   "source": [
    "str_m=''\n",
    "for i in msg:\n",
    "    if i.isalpha()==True:\n",
    "        cv=dict_pair.get(i)\n",
    "        str_m=str_m+cv\n",
    "    else:\n",
    "        cv='$'\n",
    "        str_m=str_m+cv\n",
    "        \n",
    "print(str_m+'.')"
   ]
  }
 ],
 "metadata": {
  "kernelspec": {
   "display_name": "Python 3",
   "language": "python",
   "name": "python3"
  },
  "language_info": {
   "codemirror_mode": {
    "name": "ipython",
    "version": 3
   },
   "file_extension": ".py",
   "mimetype": "text/x-python",
   "name": "python",
   "nbconvert_exporter": "python",
   "pygments_lexer": "ipython3",
   "version": "3.8.5"
  }
 },
 "nbformat": 4,
 "nbformat_minor": 4
}
