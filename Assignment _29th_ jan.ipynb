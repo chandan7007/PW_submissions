{
 "cells": [
  {
   "cell_type": "markdown",
   "id": "83932c27-0274-4c7c-8c73-0a4004c1c981",
   "metadata": {},
   "source": [
    "                                                Python Assignment 1"
   ]
  },
  {
   "cell_type": "markdown",
   "id": "cda06956-2039-4ab1-8da8-ca65843dc4e2",
   "metadata": {},
   "source": [
    "1. who developed python programmin Language?\n",
    "-> Python was developed by Guido van Rossum.\n"
   ]
  },
  {
   "cell_type": "markdown",
   "id": "84c2d094-494a-47f4-9910-0960676ebef3",
   "metadata": {},
   "source": [
    "2. Which type of Programming does Pyton support?\n",
    "-> Python is an interpreted programming language, upporting object-oriented, structured, and functional programming.\n"
   ]
  },
  {
   "cell_type": "markdown",
   "id": "b97ac2bd-1f92-4da5-b92a-6ddc48e66115",
   "metadata": {},
   "source": [
    "3. is Python case senstive when dealing with identifers?\n",
    "-> Yes, Python is a case-sensitive language, i.e.it treats uppercase and lowercase characters differently. This applies to identifiers too. You must avoid using the same name with different cases while naming identifiers."
   ]
  },
  {
   "cell_type": "markdown",
   "id": "34044cc6-c15e-4a60-be26-c14f3cf71449",
   "metadata": {},
   "source": [
    "4. is python code complied or intrerrpreted?\n",
    "->Python is an interpreted language."
   ]
  },
  {
   "cell_type": "markdown",
   "id": "9865dc20-0728-4ace-bc1f-e8c884d4139f",
   "metadata": {},
   "source": [
    "6. Name a few blocks of code used to define in python language?\n",
    "-> The following are blocks: a module, a function body, and a class definition."
   ]
  },
  {
   "cell_type": "markdown",
   "id": "c2d870bd-8868-474a-986f-66c4e65901ab",
   "metadata": {},
   "source": [
    "7. State a charater used to give single-line comments in python?\n",
    "-> We can write a single-line comment by adding a single '#' character before any statement or line of code"
   ]
  },
  {
   "cell_type": "markdown",
   "id": "11d5c989-5bb6-4046-becf-122cd5e91951",
   "metadata": {},
   "source": [
    "8. Mention functios which can help us to find the version of python that we are currently workking on?"
   ]
  },
  {
   "cell_type": "code",
   "execution_count": 1,
   "id": "bd9a4c73-1a8c-477a-bffb-5aff67131c2f",
   "metadata": {},
   "outputs": [
    {
     "name": "stdout",
     "output_type": "stream",
     "text": [
      "3.10.8 | packaged by conda-forge | (main, Nov 22 2022, 08:26:04) [GCC 10.4.0]\n"
     ]
    }
   ],
   "source": [
    "import sys\n",
    "print(sys.version)"
   ]
  },
  {
   "cell_type": "code",
   "execution_count": 2,
   "id": "e9b5a020-a04b-4794-b598-4673ac03397d",
   "metadata": {},
   "outputs": [
    {
     "name": "stdout",
     "output_type": "stream",
     "text": [
      "Current Python Version- 3.10.8\n"
     ]
    }
   ],
   "source": [
    "from platform import python_version\n",
    "print(\"Current Python Version-\", python_version())"
   ]
  },
  {
   "cell_type": "markdown",
   "id": "6beb9aec-e469-42e9-ae48-3e3c917b2b68",
   "metadata": {},
   "source": [
    "9.Python supports the creation of anonymous functions at runtime, using a construct called _____________\n",
    "->lambda"
   ]
  },
  {
   "cell_type": "markdown",
   "id": "15bdb94a-d647-4f85-bbbe-6335dd9947e4",
   "metadata": {},
   "source": [
    "10.What does pip stand for python\n",
    "-> PIP is a package manager for Python package . It is used to manage(Install, Uninstall, Update, etc) additional packages that are not part of the Python standard library."
   ]
  },
  {
   "cell_type": "markdown",
   "id": "8f95c3a5-09d4-495c-8097-274a8a0c1314",
   "metadata": {},
   "source": [
    "11.Mention a few built-in functions in Python?\n",
    "-> built-in functions given below\n",
    "abs()\t : Returns the absolute value of a number\n",
    "all()\t : Returns True if all items in an iterable object are true\n",
    "any()\t : Returns True if any item in an iterable object is true\n",
    "ascii()\t : Returns a readable version of an object. Replaces none-ascii characters with escape character\n",
    "bin()\t : Returns the binary version of a number\n",
    "bool()\t  Returns the boolean value of the specified object\n",
    "bytearray()\tReturns an array of bytes\n",
    "bytes()\tReturns a bytes object\n",
    "callable()\tReturns True if the specified object is callable, otherwise False\n",
    "chr()\tReturns a character from the specified Unicode code.\n",
    "classmethod()\tConverts a method into a class method\n",
    "compile()\tReturns the specified source as an object, ready to be executed\n",
    "complex()\tReturns a complex number\n",
    "delattr()\tDeletes the specified attribute (property or method) from the specified object\n",
    "dict()\tReturns a dictionary (Array)\n",
    "\n"
   ]
  },
  {
   "cell_type": "markdown",
   "id": "49e02139-fd20-46fa-a97d-c23efbb17296",
   "metadata": {},
   "source": [
    "12. What is the maximum possible length of an identifier in Python?\n",
    "-> An identifier can have a maximum length of 79 characters in Python"
   ]
  },
  {
   "cell_type": "markdown",
   "id": "d2124872-702a-495b-ae1f-9f4331fa446e",
   "metadata": {},
   "source": [
    "13. What are the benefits of using Python?\n",
    "-> Python programming is powering the global job market because the benefits of Python are clear. Python is one of the top three programming languages in the world, and is poised to become the most popular, according to ZDNet."
   ]
  },
  {
   "cell_type": "markdown",
   "id": "7981afaf-4927-4c5f-84dd-ac8f2ac5d42b",
   "metadata": {},
   "source": [
    "14. How is memory managed in Python?\n",
    "Memory management in Python involves a private heap containing all Python objects and data structures. The management of this private heap is ensured internally by the Python memory manager.\n",
    "\n"
   ]
  },
  {
   "cell_type": "markdown",
   "id": "219f3f7b-f85a-4394-aa9b-e179b15361bf",
   "metadata": {},
   "source": [
    "15. How to install Python on Windows and set path variables?\n",
    "-> To install Python on Windows:\n",
    "Go to the official Python website (https://www.python.org/downloads/) and download the latest version of Python for Windows.\n",
    "Run the Python installation file and follow the on-screen instructions. Make sure to select the option to add Python to your PATH environment variable.\n",
    "To set the PATH environment variable:\n",
    "\n",
    "Right-click on the Windows Start button and select \"System\" or search for \"Environment Variables\" in the Windows search bar.\n",
    "Click on \"Environment Variables.\"\n",
    "Under \"System Variables,\" scroll down and find the \"Path\" variable, then click on \"Edit.\"\n",
    "Click on \"New\" and add the path to the Python installation (e.g., \"C:\\Python38\").\n",
    "Click \"OK\" to close all windows and save the changes.\n",
    "Now you can open a Command Prompt window and run Python from any location on your computer"
   ]
  },
  {
   "cell_type": "markdown",
   "id": "d66a49c6-6f50-46e1-bc2b-6e57e2f90e67",
   "metadata": {},
   "source": [
    "16. Is indentation required In python?\n",
    "-> Indentation refers to the spaces at the beginning of a code line. Where in other programming languages the indentation in code is for readability only, the indentation in Python is very important. Python uses indentation to indicate a block of code.\n"
   ]
  }
 ],
 "metadata": {
  "kernelspec": {
   "display_name": "Python 3 (ipykernel)",
   "language": "python",
   "name": "python3"
  },
  "language_info": {
   "codemirror_mode": {
    "name": "ipython",
    "version": 3
   },
   "file_extension": ".py",
   "mimetype": "text/x-python",
   "name": "python",
   "nbconvert_exporter": "python",
   "pygments_lexer": "ipython3",
   "version": "3.10.8"
  }
 },
 "nbformat": 4,
 "nbformat_minor": 5
}
