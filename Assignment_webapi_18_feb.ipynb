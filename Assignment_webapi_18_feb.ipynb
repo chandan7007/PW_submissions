{
 "cells": [
  {
   "cell_type": "markdown",
   "metadata": {},
   "source": [
    "Q1. What is an API? Give an example, where an API is used in real life."
   ]
  },
  {
   "cell_type": "markdown",
   "metadata": {},
   "source": [
    "An API is a communication interface that allows two separate software components to share data.\n",
    "An API operates as a bridge between internal and external software operations, allowing for a fluid interchange of data that\n",
    "frequently passes undetected by the end-user. Simply said, an API acts as a virtual middleman, transferring data from one \n",
    "interface, such as a mobile app, to another. APIs connect various sections of a software platform to guarantee that information\n",
    "is sent correctly. These connection points serve as an internal communication route, and a way for external tools to access the\n",
    "same data. As a result, APIs may be classified into two types:\n",
    "\n",
    "Private APIs: A private API is only available to developers and users within a company. These APIs are often used to link \n",
    "    internal team operations to remove silos and streamline communication.\n",
    "    \n",
    "Open APIs: On the other hand, open APIs allow third-party developers to quickly access and merge data from one tool \n",
    "    to another. An open or public API saves time for developers by allowing them to link their platform with already\n",
    "    existing tools, minimizing the need to construct new services.\n",
    "    \n",
    "    \n",
    "##use in real life:\n",
    "payment app like paytm phone pe\n",
    "Google Search, Twitter Bots,Netflix Bot, travell booking etc "
   ]
  },
  {
   "cell_type": "markdown",
   "metadata": {},
   "source": [
    "Q2. Give advantages and disadvantages of using API."
   ]
  },
  {
   "cell_type": "markdown",
   "metadata": {},
   "source": [
    "API advantages:\n",
    "\n",
    "Can provide a way to access functionality or data that is not otherwise readily available or accessible.\n",
    "Can provide a way to automate tasks.\n",
    "Can help to improve communication between disparate systems.\n",
    "\n",
    "API disadvantages:\n",
    "\n",
    "Can be difficult to use and understand.\n",
    "Cannot be guaranteed to be stable or backwards compatible.\n",
    "May require a certain level of technical expertise in order to use them effectively."
   ]
  },
  {
   "cell_type": "markdown",
   "metadata": {},
   "source": [
    "Q3. What is a Web API? Differentiate between API and Web API."
   ]
  },
  {
   "cell_type": "markdown",
   "metadata": {},
   "source": [
    "Key Differences between API and Web Services\n",
    "Web service is a collection of open source protocols and standards used for exchanging data between systems or applications, whereas API is a software interface that allows two applications to interact with each other without any user involvement.\n",
    "Web service is used for REST, SOAP, and XML-RPC for communication, while API is used for any style of communication.\n",
    "Web service supports only HTTP protocol, whereas API supports HTTP/HTTPS protocol.\n",
    "Web service supports XML, while API supports XML and JSON.\n",
    "All Web services are APIs, but all APIs are not web services."
   ]
  },
  {
   "cell_type": "markdown",
   "metadata": {},
   "source": [
    "Q4. Explain REST and SOAP Architecture. Mention shortcomings of SOAP."
   ]
  },
  {
   "cell_type": "markdown",
   "metadata": {},
   "source": [
    "#Soap\n",
    "\n",
    "SOAP relies exclusively on XML to provide messaging services. Microsoft originally developed SOAP to take the place of older technologies that don’t work well on the internet such as the Distributed Component Object Model (DCOM) and Common Object Request Broker Architecture (CORBA). These technologies fail because they rely on binary messaging. The XML messaging that SOAP employs works better over the internet.\n",
    "\n",
    "After an initial release, Microsoft submitted SOAP to the Internet Engineering Task Force (IETF) where it was standardized. SOAP is designed to support expansion, so it has all sorts of other acronyms and abbreviations associated with it, such as WS-Addressing, WS-Policy, WS-Security, WS-Federation, WS-ReliableMessaging, WS-Coordination, WS-AtomicTransaction, and WS-RemotePortlets. In fact, you can find a whole laundry list of these standards on Web Services Standards.\n",
    "\n",
    "The point is that SOAP is highly extensible, but you only use the pieces you need for a particular task. For example, when using a public web service that’s freely available to everyone, you really don’t have much need for WS-Security.\n",
    "\n",
    "\n",
    "####Rest\n",
    "REST provides a lighter-weight alternative. Many developers found SOAP cumbersome and hard to use. For example, working with SOAP in JavaScript means writing a ton of code to perform simple tasks because you must create the required XML structure every time.\n",
    "\n",
    "Instead of using XML to make a request, REST (usually) relies on a simple URL. In some situations you must provide additional information, but most web services using REST rely exclusively on using the URL approach. REST can use four different HTTP 1.1 verbs (GET, POST, PUT, and DELETE) to perform tasks.\n",
    "\n",
    "Unlike SOAP, REST doesn’t have to use XML to provide the response. You can find REST-based web services that output the data in Command Separated Value (CSV), JavaScript Object Notation (JSON) and Really Simple Syndication (RSS). The point is you can obtain the output you need, in a form that’s easy to parse within the language you’re using for your application.\n",
    "\n",
    "\n",
    "#Shortcomings of soaps\n",
    "\n",
    "As SOAP can only transfer messages as XML files, your SOAP API will be less performant, as XML is a verbose format compared to JSON. API calls made to your server will need more bandwidth and it will take more time to process the request and transfer the response back to the client."
   ]
  },
  {
   "cell_type": "markdown",
   "metadata": {},
   "source": [
    "Q5. Differentiate between REST and SOAP."
   ]
  },
  {
   "cell_type": "markdown",
   "metadata": {},
   "source": [
    "Key Difference Between SOAP and REST API\n",
    "SOAP stands for Simple Object Access Protocol whereas REST stands for Representational State Transfer.\n",
    "SOAP is a protocol whereas REST is an architectural pattern.\n",
    "SOAP uses service interfaces to expose its functionality to client applications while REST uses Uniform Service locators to access to the components on the hardware device.\n",
    "SOAP needs more bandwidth for its usage whereas REST doesn’t need much bandwidth.\n",
    "Comparing SOAP vs REST API, SOAP only works with XML formats whereas REST work with plain text, XML, HTML and JSON.\n",
    "SOAP cannot make use of REST whereas REST can make use of SOAP."
   ]
  },
  {
   "cell_type": "code",
   "execution_count": null,
   "metadata": {},
   "outputs": [],
   "source": []
  }
 ],
 "metadata": {
  "kernelspec": {
   "display_name": "Python 3",
   "language": "python",
   "name": "python3"
  },
  "language_info": {
   "codemirror_mode": {
    "name": "ipython",
    "version": 3
   },
   "file_extension": ".py",
   "mimetype": "text/x-python",
   "name": "python",
   "nbconvert_exporter": "python",
   "pygments_lexer": "ipython3",
   "version": "3.8.5"
  }
 },
 "nbformat": 4,
 "nbformat_minor": 4
}
